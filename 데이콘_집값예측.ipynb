{
  "nbformat": 4,
  "nbformat_minor": 0,
  "metadata": {
    "colab": {
      "name": "데이콘_집값예측.ipynb",
      "provenance": [],
      "collapsed_sections": [],
      "authorship_tag": "ABX9TyOgT6afV6rw3iguRLm+RoJt",
      "include_colab_link": true
    },
    "kernelspec": {
      "name": "python3",
      "display_name": "Python 3"
    },
    "language_info": {
      "name": "python"
    }
  },
  "cells": [
    {
      "cell_type": "markdown",
      "metadata": {
        "id": "view-in-github",
        "colab_type": "text"
      },
      "source": [
        "<a href=\"https://colab.research.google.com/github/kdoyoon/Dacon-practice/blob/main/%EB%8D%B0%EC%9D%B4%EC%BD%98_%EC%A7%91%EA%B0%92%EC%98%88%EC%B8%A1.ipynb\" target=\"_parent\"><img src=\"https://colab.research.google.com/assets/colab-badge.svg\" alt=\"Open In Colab\"/></a>"
      ]
    },
    {
      "cell_type": "code",
      "execution_count": 9,
      "metadata": {
        "colab": {
          "base_uri": "https://localhost:8080/"
        },
        "id": "dOcKrusJ_FZn",
        "outputId": "b2f42c12-f82e-4fdf-c1ab-496ac7fc8412"
      },
      "outputs": [
        {
          "output_type": "stream",
          "name": "stderr",
          "text": [
            "/usr/local/lib/python3.7/dist-packages/sklearn/neighbors/_classification.py:198: DataConversionWarning: A column-vector y was passed when a 1d array was expected. Please change the shape of y to (n_samples,), for example using ravel().\n",
            "  return self._fit(X, y)\n"
          ]
        }
      ],
      "source": [
        "import numpy as np\n",
        "import pandas as pd\n",
        "\n",
        "#파일 불러오기\n",
        "train = pd.read_csv(\"train.csv\")\n",
        "test = pd.read_csv(\"test.csv\")\n",
        "submission = pd.read_csv(\"sample_submission.csv\")\n",
        "\n",
        "#데이터 전처리\n",
        "train = train.drop('id', axis = 1)\n",
        "test = test.drop('id', axis = 1)\n",
        "\n",
        "#문자형 변수 더미베리러블 처리\n",
        "dum1 = pd.get_dummies(train['Exter Qual'])\n",
        "dum2 = pd.get_dummies(train['Kitchen Qual'])\n",
        "dum3 = pd.get_dummies(train['Bsmt Qual'])\n",
        "\n",
        "dummies_1 = dum1 + dum2 + dum3\n",
        "dummies_1 = dummies_1.fillna(0)\n",
        "\n",
        "merged = pd.concat([train,dummies_1],axis=1)\n",
        "\n",
        "final = merged.drop(['Exter Qual','Kitchen Qual','Bsmt Qual'],axis = 1)\n",
        "\n",
        "dum4 = pd.get_dummies(test['Exter Qual'])\n",
        "dum5 = pd.get_dummies(test['Kitchen Qual'])\n",
        "dum6 = pd.get_dummies(test['Bsmt Qual'])\n",
        "\n",
        "dummies_2 = dum4 + dum5 + dum6\n",
        "dummies_2 = dummies_2.fillna(0)\n",
        "\n",
        "merged = pd.concat([test,dummies_2],axis=1)\n",
        "\n",
        "final_test = merged.drop(['Exter Qual','Kitchen Qual','Bsmt Qual'],axis = 1)\n",
        "\n",
        "#학습 데이터 나누기\n",
        "train_data = final[['Overall Qual','Gr Liv Area',\t'Garage Cars',\t'Garage Area',\t'Total Bsmt SF',\n",
        "                    '1st Flr SF',\t'Full Bath','Year Built',\t'Year Remod/Add',\t'Garage Yr Blt', 'Ex',\t'Fa',\t'Gd',\t'Po',\t'TA']]\n",
        "train_target=final[['target']]\n",
        "\n",
        "#사용 모델\n",
        "from sklearn.ensemble import RandomForestRegressor\n",
        "model = RandomForestRegressor()\n",
        "\n",
        "model.fit(train_data,train_target)\n",
        "\n",
        "result = model.predict(final_test)\n",
        "result_pd = pd.DataFrame(result)\n",
        "\n",
        "submission['target']=result_pd\n",
        "submission.to_csv('submission1.csv',index=False)"
      ]
    }
  ]
}